{
 "cells": [
  {
   "cell_type": "markdown",
   "id": "ad3bd14f-0372-4719-8cf1-316e21fa3eaa",
   "metadata": {},
   "source": [
    "# Importing the dependencies"
   ]
  },
  {
   "cell_type": "code",
   "execution_count": 15,
   "id": "5a3bd812-9f6c-41e7-baf7-9b66729791f7",
   "metadata": {},
   "outputs": [],
   "source": [
    "# Import necessary libraries\n",
    "import pandas as pd\n",
    "import numpy as np\n",
    "import json\n",
    "import request\n",
    "import matplotlib.pyplot as plt\n",
    "import seaborn as sns\n",
    "from sklearn.model_selection import train_test_split\n",
    "from sklearn.metrics import mean_squared_error, accuracy_score\n"
   ]
  },
  {
   "cell_type": "markdown",
   "id": "e358f296-61aa-41ea-a704-958f6864d148",
   "metadata": {},
   "source": [
    "# Loading the dataset"
   ]
  },
  {
   "cell_type": "code",
   "execution_count": 18,
   "id": "918b5214-0ca8-417e-89dd-62984cfac2a4",
   "metadata": {},
   "outputs": [
    {
     "name": "stdout",
     "output_type": "stream",
     "text": [
      "\n",
      "Current Quiz Data:\n",
      "   quiz_id quiz_name                                         quiz_title  \\\n",
      "0       43      None  Structural Organisation in Animals and Plants (7)   \n",
      "\n",
      "  quiz_description quiz_difficulty_level                          quiz_topic  \\\n",
      "0                                   None  Structural Organisation in Animals   \n",
      "\n",
      "                       quiz_time  quiz_is_published  \\\n",
      "0  2024-07-03T00:00:00.000+05:30               True   \n",
      "\n",
      "                 quiz_created_at                quiz_updated_at  ...  \\\n",
      "0  2024-07-03T11:00:08.958+05:30  2024-09-23T18:43:27.751+05:30  ...   \n",
      "\n",
      "   quiz_exam_id quiz_show_unanswered quiz_ends_at quiz_lives  quiz_live_count  \\\n",
      "0          None                False   2025-01-18       None        Free Test   \n",
      "\n",
      "   quiz_coin_count  quiz_questions_count   quiz_daily_date  \\\n",
      "0               -1                   128  January 17, 2025   \n",
      "\n",
      "   quiz_max_mistake_count                                     quiz_questions  \n",
      "0                      15  [{'id': 1827, 'description': 'The tissue which...  \n",
      "\n",
      "[1 rows x 32 columns]\n",
      "\n",
      "Historical Quiz Data:\n",
      "       id  quiz_id                       user_id  \\\n",
      "0  336566       43  7ZXdz3zHuNcdg9agb5YpaOGLQqw2   \n",
      "\n",
      "                    submitted_at                     created_at  \\\n",
      "0  2025-01-17T15:51:29.859+05:30  2025-01-17T15:51:29.871+05:30   \n",
      "\n",
      "                      updated_at  score  trophy_level accuracy speed  ...  \\\n",
      "0  2025-01-17T15:51:29.871+05:30     32             2     80 %   100  ...   \n",
      "\n",
      "  quiz_exam_id quiz_show_unanswered  quiz_ends_at  quiz_lives quiz_live_count  \\\n",
      "0         None                False    2025-01-18        None       Free Test   \n",
      "\n",
      "  quiz_coin_count quiz_questions_count   quiz_daily_date  \\\n",
      "0              -1                  128  January 17, 2025   \n",
      "\n",
      "  quiz_max_mistake_count  quiz_reading_materials  \n",
      "0                     15                      []  \n",
      "\n",
      "[1 rows x 67 columns]\n"
     ]
    }
   ],
   "source": [
    "# Disable SSL warnings\n",
    "requests.packages.urllib3.disable_warnings()\n",
    "\n",
    "# Load and preprocess the current quiz data\n",
    "def load_and_flatten_json(url):\n",
    "    response = requests.get(url, verify=False)\n",
    "    json_data = response.json()\n",
    "    # Normalize the JSON data to flatten nested fields\n",
    "    flattened_data = pd.json_normalize(json_data, sep='_')\n",
    "    return flattened_data\n",
    "\n",
    "# URLs for the datasets\n",
    "current_quiz_url = \"https://jsonkeeper.com/b/LLQT\"\n",
    "historical_quiz_url = \"https://api.jsonserve.com/rJvd7g\"\n",
    "\n",
    "# Load the datasets\n",
    "current_quiz_df = load_and_flatten_json(current_quiz_url)\n",
    "historical_quiz_df = load_and_flatten_json(historical_quiz_url)\n",
    "\n",
    "# Display the first few rows of the data\n",
    "print(\"\\nCurrent Quiz Data:\")\n",
    "print(current_quiz_df.head())\n",
    "\n",
    "print(\"\\nHistorical Quiz Data:\")\n",
    "print(historical_quiz_df.head())\n"
   ]
  },
  {
   "cell_type": "markdown",
   "id": "ed1a0eb7-5d25-40bf-8550-ba605430ca1a",
   "metadata": {},
   "source": [
    "# Data Cleaning and Preprocessing"
   ]
  },
  {
   "cell_type": "code",
   "execution_count": 20,
   "id": "e84bc52c-ec41-4ffd-a644-f5f91741b087",
   "metadata": {},
   "outputs": [
    {
     "name": "stdout",
     "output_type": "stream",
     "text": [
      "\n",
      "Cleaned Current Quiz Data:\n",
      "   quiz_id                                         quiz_title  \\\n",
      "0       43  Structural Organisation in Animals and Plants (7)   \n",
      "\n",
      "                           quiz_topic  quiz_questions_count  \\\n",
      "0  Structural Organisation in Animals                   128   \n",
      "\n",
      "  quiz_difficulty_level  quiz_max_mistake_count  \n",
      "0                  None                      15  \n",
      "\n",
      "Cleaned Historical Quiz Data:\n",
      "                        user_id  score  accuracy  speed  quiz_id  \\\n",
      "0  7ZXdz3zHuNcdg9agb5YpaOGLQqw2     32      80.0    100       43   \n",
      "\n",
      "   trophy_level  quiz_questions_count  quiz_max_mistake_count  \n",
      "0             2                   128                      15  \n"
     ]
    }
   ],
   "source": [
    "# Data Cleaning and Preprocessing\n",
    "def preprocess_current_quiz(data):\n",
    "    # Extract quiz_id, quiz_topic, and other essential fields\n",
    "    useful_columns = [\n",
    "        'quiz_id', 'quiz_title', 'quiz_topic', 'quiz_questions_count',\n",
    "        'quiz_difficulty_level', 'quiz_max_mistake_count'\n",
    "    ]\n",
    "    return data[useful_columns]\n",
    "\n",
    "def preprocess_historical_quiz(data):\n",
    "    # Extract relevant columns and clean data\n",
    "    useful_columns = [\n",
    "        'user_id', 'score', 'accuracy', 'speed', 'quiz_id', 'trophy_level',\n",
    "        'quiz_questions_count', 'quiz_max_mistake_count'\n",
    "    ]\n",
    "    # Clean accuracy and speed columns (removing '%' or converting to numeric)\n",
    "    data['accuracy'] = data['accuracy'].str.replace('%', '').astype(float)\n",
    "    data['speed'] = pd.to_numeric(data['speed'], errors='coerce')\n",
    "    return data[useful_columns]\n",
    "\n",
    "# Preprocess the data\n",
    "current_quiz_cleaned = preprocess_current_quiz(current_quiz_df)\n",
    "historical_quiz_cleaned = preprocess_historical_quiz(historical_quiz_df)\n",
    "\n",
    "print(\"\\nCleaned Current Quiz Data:\")\n",
    "print(current_quiz_cleaned.head())\n",
    "\n",
    "print(\"\\nCleaned Historical Quiz Data:\")\n",
    "print(historical_quiz_cleaned.head())\n"
   ]
  },
  {
   "cell_type": "markdown",
   "id": "14adfda8-dbbe-40ff-8439-85bf8993cc65",
   "metadata": {},
   "source": [
    "# Feature Engineering "
   ]
  },
  {
   "cell_type": "code",
   "execution_count": 21,
   "id": "a59e9d40-d041-4657-86b5-0d524616471e",
   "metadata": {},
   "outputs": [
    {
     "name": "stdout",
     "output_type": "stream",
     "text": [
      "\n",
      "Enriched Current Quiz Data:\n",
      "   quiz_id                                         quiz_title  \\\n",
      "0       43  Structural Organisation in Animals and Plants (7)   \n",
      "\n",
      "                           quiz_topic  quiz_questions_count  \\\n",
      "0  Structural Organisation in Animals                   128   \n",
      "\n",
      "  quiz_difficulty_level  quiz_max_mistake_count  questions_remaining  \n",
      "0                  None                      15                  113  \n",
      "\n",
      "Enriched Historical Quiz Data:\n",
      "                        user_id  score  accuracy  speed  quiz_id  \\\n",
      "0  7ZXdz3zHuNcdg9agb5YpaOGLQqw2     32      80.0    100       43   \n",
      "\n",
      "   trophy_level  quiz_questions_count  quiz_max_mistake_count  \\\n",
      "0             2                   128                      15   \n",
      "\n",
      "   score_per_question  \n",
      "0                0.25  \n"
     ]
    },
    {
     "name": "stderr",
     "output_type": "stream",
     "text": [
      "C:\\Users\\alamm\\AppData\\Local\\Temp\\ipykernel_21328\\867017234.py:3: SettingWithCopyWarning: \n",
      "A value is trying to be set on a copy of a slice from a DataFrame.\n",
      "Try using .loc[row_indexer,col_indexer] = value instead\n",
      "\n",
      "See the caveats in the documentation: https://pandas.pydata.org/pandas-docs/stable/user_guide/indexing.html#returning-a-view-versus-a-copy\n",
      "  data['questions_remaining'] = data['quiz_questions_count'] - data['quiz_max_mistake_count']\n",
      "C:\\Users\\alamm\\AppData\\Local\\Temp\\ipykernel_21328\\867017234.py:9: SettingWithCopyWarning: \n",
      "A value is trying to be set on a copy of a slice from a DataFrame.\n",
      "Try using .loc[row_indexer,col_indexer] = value instead\n",
      "\n",
      "See the caveats in the documentation: https://pandas.pydata.org/pandas-docs/stable/user_guide/indexing.html#returning-a-view-versus-a-copy\n",
      "  data['score_per_question'] = data['score'] / data['quiz_questions_count']\n"
     ]
    }
   ],
   "source": [
    "# Feature Engineering for Current Quiz\n",
    "def add_features_current_quiz(data):\n",
    "    data['questions_remaining'] = data['quiz_questions_count'] - data['quiz_max_mistake_count']\n",
    "    return data\n",
    "\n",
    "# Feature Engineering for Historical Quiz\n",
    "def add_features_historical_quiz(data):\n",
    "    # Calculate performance ratios\n",
    "    data['score_per_question'] = data['score'] / data['quiz_questions_count']\n",
    "    return data\n",
    "\n",
    "# Apply Feature Engineering\n",
    "current_quiz_enriched = add_features_current_quiz(current_quiz_cleaned)\n",
    "historical_quiz_enriched = add_features_historical_quiz(historical_quiz_cleaned)\n",
    "\n",
    "print(\"\\nEnriched Current Quiz Data:\")\n",
    "print(current_quiz_enriched.head())\n",
    "\n",
    "print(\"\\nEnriched Historical Quiz Data:\")\n",
    "print(historical_quiz_enriched.head())\n"
   ]
  },
  {
   "cell_type": "markdown",
   "id": "013a9fc6-381f-4606-9690-ed81995fa4c0",
   "metadata": {},
   "source": [
    "# Analysis & Insights"
   ]
  },
  {
   "cell_type": "code",
   "execution_count": 22,
   "id": "065d4f14-a096-4a25-82cc-81e45d305074",
   "metadata": {},
   "outputs": [
    {
     "name": "stdout",
     "output_type": "stream",
     "text": [
      "\n",
      "Weak Topics Analysis:\n",
      "Empty DataFrame\n",
      "Columns: [quiz_id, weak_topic_count]\n",
      "Index: []\n",
      "\n",
      "Average Performance Analysis:\n",
      "score        32.0\n",
      "accuracy     80.0\n",
      "speed       100.0\n",
      "dtype: float64\n"
     ]
    }
   ],
   "source": [
    "# Analysis for Weak Topics (using historical data)\n",
    "def analyze_weak_topics(data, threshold=50):\n",
    "    weak_topics = data[data['accuracy'] < threshold]\n",
    "    return weak_topics.groupby('quiz_id').size().reset_index(name='weak_topic_count')\n",
    "\n",
    "# Analysis for Average Performance\n",
    "def analyze_average_performance(data):\n",
    "    avg_performance = data[['score', 'accuracy', 'speed']].mean()\n",
    "    return avg_performance\n",
    "\n",
    "weak_topics = analyze_weak_topics(historical_quiz_enriched)\n",
    "average_performance = analyze_average_performance(historical_quiz_enriched)\n",
    "\n",
    "print(\"\\nWeak Topics Analysis:\")\n",
    "print(weak_topics)\n",
    "\n",
    "print(\"\\nAverage Performance Analysis:\")\n",
    "print(average_performance)\n"
   ]
  },
  {
   "cell_type": "markdown",
   "id": "d7c64fba-eca2-403d-b3e9-772808b65b17",
   "metadata": {},
   "source": [
    "# Recommendation System"
   ]
  },
  {
   "cell_type": "code",
   "execution_count": 25,
   "id": "d4dd138a-5af5-4df5-9d63-56ae87f5c02f",
   "metadata": {},
   "outputs": [
    {
     "name": "stdout",
     "output_type": "stream",
     "text": [
      "\n",
      "Debugging Recommendations:\n",
      "Average Performance Metrics: score        32.0\n",
      "accuracy     80.0\n",
      "speed       100.0\n",
      "dtype: float64\n",
      "Weak Topics DataFrame:\n",
      "Empty DataFrame\n",
      "Columns: [quiz_id, weak_topic_count]\n",
      "Index: []\n",
      "\n",
      "Updated Recommendations:\n",
      "['No specific recommendations at this time. Keep up the good work!']\n"
     ]
    }
   ],
   "source": [
    "def generate_recommendations(avg_performance, weak_topics):\n",
    "    # Debugging prints to inspect values\n",
    "    print(\"\\nDebugging Recommendations:\")\n",
    "    print(\"Average Performance Metrics:\", avg_performance)\n",
    "    print(\"Weak Topics DataFrame:\")\n",
    "    print(weak_topics)\n",
    "    \n",
    "    recommendations = []\n",
    "    if avg_performance['accuracy'] < 70:\n",
    "        recommendations.append(\"Focus on improving accuracy through targeted practice.\")\n",
    "    if avg_performance['speed'] < 90:\n",
    "        recommendations.append(\"Improve speed by practicing time-bound quizzes.\")\n",
    "    if not weak_topics.empty:  # Check if weak_topics DataFrame is not empty\n",
    "        weak_topic_ids = weak_topics['quiz_id'].tolist()\n",
    "        recommendations.append(f\"Revise the weak topics identified: {weak_topic_ids}\")\n",
    "    if not recommendations:\n",
    "        recommendations.append(\"No specific recommendations at this time. Keep up the good work!\")\n",
    "    return recommendations\n",
    "\n",
    "# Generate Recommendations\n",
    "recommendations = generate_recommendations(average_performance, weak_topics)\n",
    "\n",
    "print(\"\\nUpdated Recommendations:\")\n",
    "print(recommendations)\n"
   ]
  },
  {
   "cell_type": "markdown",
   "id": "4e4d164f-2ead-4b52-b3f8-79e11bde6687",
   "metadata": {},
   "source": [
    "# Visualizations"
   ]
  },
  {
   "cell_type": "code",
   "execution_count": 27,
   "id": "3ad8b94b-7d9e-4f31-9371-682d43b0c879",
   "metadata": {},
   "outputs": [
    {
     "data": {
      "image/png": "[encoded data removed]",
      "text/plain": [
       "<Figure size 1000x600 with 1 Axes>"
      ]
     },
     "metadata": {},
     "output_type": "display_data"
    }
   ],
   "source": [
    "# Score Distribution Visualization\n",
    "plt.figure(figsize=(10, 6))\n",
    "sns.histplot(historical_quiz_enriched['score'], kde=True, bins=20, color='blue')\n",
    "plt.title(\"Score Distribution in Historical Data\", fontsize=16)\n",
    "plt.xlabel(\"Score\", fontsize=12)\n",
    "plt.ylabel(\"Frequency\", fontsize=12)\n",
    "plt.grid(axis='y', linestyle='--', alpha=0.7)\n",
    "plt.show()\n"
   ]
  },
  {
   "cell_type": "code",
   "execution_count": 34,
   "id": "605ffbfd-87f9-43ff-9750-ca26e5bc4cb8",
   "metadata": {},
   "outputs": [
    {
     "name": "stdout",
     "output_type": "stream",
     "text": [
      "Topic data is not available for visualization.\n"
     ]
    }
   ],
   "source": [
    "# Check if 'topic' exists in historical data\n",
    "if 'topic' in historical_quiz_enriched.columns:\n",
    "    topic_performance = historical_quiz_enriched.groupby('topic')['accuracy'].mean().reset_index()\n",
    "\n",
    "    plt.figure(figsize=(10, 6))\n",
    "    sns.barplot(data=topic_performance, x='topic', y='accuracy', palette='coolwarm')\n",
    "    plt.title(\"Average Accuracy by Topic\", fontsize=16)\n",
    "    plt.xlabel(\"Topic\", fontsize=12)\n",
    "    plt.ylabel(\"Average Accuracy (%)\", fontsize=12)\n",
    "    plt.xticks(rotation=45)\n",
    "    plt.grid(axis='y', linestyle='--', alpha=0.7)\n",
    "    plt.show()\n",
    "else:\n",
    "    print(\"Topic data is not available for visualization.\")\n"
   ]
  },
  {
   "cell_type": "code",
   "execution_count": null,
   "id": "c6429e5a-43e4-4870-a174-4b9bba9b1feb",
   "metadata": {},
   "outputs": [],
   "source": []
  },
  {
   "cell_type": "markdown",
   "id": "eb4803fe-dd9d-4245-980f-549bb67172ce",
   "metadata": {},
   "source": [
    "# Evaluation of Code"
   ]
  },
  {
   "cell_type": "code",
   "execution_count": 40,
   "id": "b3debb7f-d89a-45d6-8036-2ad07f421bef",
   "metadata": {},
   "outputs": [],
   "source": [
    "# Check if historical quiz and current quiz are properly loaded and cleaned\n",
    "def evaluate_data_loading(current_quiz_cleaned, historical_quiz_cleaned):\n",
    "    if current_quiz_cleaned is not None:\n",
    "        print(f\"Current quiz data loaded and cleaned successfully. Rows: {len(current_quiz_cleaned)}\")\n",
    "    else:\n",
    "        print(\"Failed to load current quiz data.\")\n",
    "    \n",
    "    if historical_quiz_cleaned is not None:\n",
    "        print(f\"Historical quiz data loaded and cleaned successfully. Rows: {len(historical_quiz_cleaned)}\")\n",
    "    else:\n",
    "        print(\"Failed to load historical quiz data.\")\n"
   ]
  },
  {
   "cell_type": "markdown",
   "id": "62b28f46-5838-468f-8ad4-68bb318d89fa",
   "metadata": {},
   "source": [
    "# Modular and Clean Code"
   ]
  },
  {
   "cell_type": "code",
   "execution_count": 41,
   "id": "b3895c70-9d69-4639-84ea-ad65aad17f11",
   "metadata": {},
   "outputs": [],
   "source": [
    "# Function to load current quiz data\n",
    "def load_current_quiz_data(url):\n",
    "    try:\n",
    "        data = pd.read_json(url, verify=False)  # Disable SSL verification\n",
    "        print(\"Current quiz data loaded.\")\n",
    "        return data\n",
    "    except Exception as e:\n",
    "        print(f\"Error loading current quiz data: {e}\")\n",
    "        return None\n",
    "\n",
    "# Function to load historical quiz data\n",
    "def load_historical_quiz_data(url):\n",
    "    try:\n",
    "        data = pd.read_json(url, verify=False)  # Disable SSL verification\n",
    "        print(\"Historical quiz data loaded.\")\n",
    "        return data\n",
    "    except Exception as e:\n",
    "        print(f\"Error loading historical quiz data: {e}\")\n",
    "        return None\n"
   ]
  },
  {
   "cell_type": "markdown",
   "id": "e04fba78-1555-4fa1-949d-f8ce5a0e5d83",
   "metadata": {},
   "source": [
    "# Final Report"
   ]
  },
  {
   "cell_type": "code",
   "execution_count": 42,
   "id": "77d9d3ba-3958-436a-abc8-5b245c943e8f",
   "metadata": {},
   "outputs": [],
   "source": [
    "def generate_report(historical_quiz_cleaned):\n",
    "    # Get the key insights from historical data\n",
    "    weak_topics = recommend_weak_topics(historical_quiz_cleaned, threshold=50)\n",
    "    print(\"\\nWeak Topics Recommendation:\")\n",
    "    print(weak_topics)\n",
    "    \n",
    "    # Visualize weak topics (only if the necessary data exists)\n",
    "    if weak_topics:\n",
    "        plot_weak_topics(weak_topics)\n",
    "\n",
    "def recommend_weak_topics(historical_quiz_cleaned, threshold=50):\n",
    "    # Identify weak topics based on scores\n",
    "    weak_topics = historical_quiz_cleaned[historical_quiz_cleaned['score'] < threshold]\n",
    "    if not weak_topics.empty:\n",
    "        return weak_topics['quiz_topic'].tolist()\n",
    "    return []\n",
    "\n",
    "def plot_weak_topics(weak_topics):\n",
    "    if weak_topics:\n",
    "        sns.barplot(x=weak_topics, y=[1]*len(weak_topics), palette=\"coolwarm\")\n",
    "        plt.title(\"Weak Topics in Historical Quiz\")\n",
    "        plt.xlabel(\"Topic\")\n",
    "        plt.ylabel(\"Frequency\")\n",
    "        plt.show()\n"
   ]
  },
  {
   "cell_type": "markdown",
   "id": "5df68186-bb4a-4fca-bcda-d54bd6029de4",
   "metadata": {},
   "source": [
    "# Full Code Implementation"
   ]
  },
  {
   "cell_type": "code",
   "execution_count": 49,
   "id": "f491b145-60dd-453e-b615-45fab1fa7937",
   "metadata": {},
   "outputs": [
    {
     "name": "stdout",
     "output_type": "stream",
     "text": [
      "\n",
      "'quiz_topic' or 'score' columns are missing. Please check the dataset.\n",
      "\n",
      "Cleaned Current Quiz Data:\n",
      "\n",
      "Summary Report:\n",
      "Total records after cleaning: 1\n",
      "Columns in cleaned data: ['quiz.id', 'quiz.name', 'quiz.title', 'quiz.description', 'quiz.difficulty_level', 'quiz.topic', 'quiz.time', 'quiz.is_published', 'quiz.created_at', 'quiz.updated_at', 'quiz.duration', 'quiz.end_time', 'quiz.negative_marks', 'quiz.correct_answer_marks', 'quiz.shuffle', 'quiz.show_answers', 'quiz.lock_solutions', 'quiz.is_form', 'quiz.show_mastery_option', 'quiz.quiz_type', 'quiz.is_custom', 'quiz.banner_id', 'quiz.exam_id', 'quiz.show_unanswered', 'quiz.ends_at', 'quiz.lives', 'quiz.live_count', 'quiz.coin_count', 'quiz.questions_count', 'quiz.daily_date', 'quiz.max_mistake_count', 'quiz.questions']\n",
      "\n",
      "First 5 rows of the cleaned data:\n",
      "    quiz.id quiz.name                                         quiz.title  \\\n",
      "0       43      None  Structural Organisation in Animals and Plants (7)   \n",
      "\n",
      "  quiz.description quiz.difficulty_level                          quiz.topic  \\\n",
      "0                                   None  Structural Organisation in Animals   \n",
      "\n",
      "                       quiz.time  quiz.is_published  \\\n",
      "0  2024-07-03T00:00:00.000+05:30               True   \n",
      "\n",
      "                 quiz.created_at                quiz.updated_at  ...  \\\n",
      "0  2024-07-03T11:00:08.958+05:30  2024-09-23T18:43:27.751+05:30  ...   \n",
      "\n",
      "   quiz.exam_id quiz.show_unanswered quiz.ends_at quiz.lives  quiz.live_count  \\\n",
      "0          None                False   2025-01-18       None        Free Test   \n",
      "\n",
      "   quiz.coin_count  quiz.questions_count   quiz.daily_date  \\\n",
      "0               -1                   128  January 17, 2025   \n",
      "\n",
      "   quiz.max_mistake_count                                     quiz.questions  \n",
      "0                      15  [{'id': 1827, 'description': 'The tissue which...  \n",
      "\n",
      "[1 rows x 32 columns]\n",
      "\n",
      "'quiz_topic' or 'score' columns are missing. Please check the dataset.\n",
      "\n",
      "Cleaned Historical Quiz Data:\n",
      "\n",
      "Summary Report:\n",
      "Total records after cleaning: 1\n",
      "Columns in cleaned data: ['id', 'quiz_id', 'user_id', 'submitted_at', 'created_at', 'updated_at', 'score', 'trophy_level', 'accuracy', 'speed', 'final_score', 'negative_score', 'correct_answers', 'incorrect_answers', 'source', 'type', 'started_at', 'ended_at', 'duration', 'better_than', 'total_questions', 'rank_text', 'mistakes_corrected', 'initial_mistake_count', 'next_steps', 'response_map.1837', 'response_map.1848', 'response_map.1852', 'response_map.1862', 'response_map.1877', 'response_map.1878', 'response_map.1900', 'response_map.1917', 'response_map.1934', 'response_map.1964', 'quiz.id', 'quiz.name', 'quiz.title', 'quiz.description', 'quiz.difficulty_level', 'quiz.topic', 'quiz.time', 'quiz.is_published', 'quiz.created_at', 'quiz.updated_at', 'quiz.duration', 'quiz.end_time', 'quiz.negative_marks', 'quiz.correct_answer_marks', 'quiz.shuffle', 'quiz.show_answers', 'quiz.lock_solutions', 'quiz.is_form', 'quiz.show_mastery_option', 'quiz.reading_material', 'quiz.quiz_type', 'quiz.is_custom', 'quiz.banner_id', 'quiz.exam_id', 'quiz.show_unanswered', 'quiz.ends_at', 'quiz.lives', 'quiz.live_count', 'quiz.coin_count', 'quiz.questions_count', 'quiz.daily_date', 'quiz.max_mistake_count', 'quiz.reading_materials']\n",
      "\n",
      "First 5 rows of the cleaned data:\n",
      "        id  quiz_id                       user_id  \\\n",
      "0  336566       43  7ZXdz3zHuNcdg9agb5YpaOGLQqw2   \n",
      "\n",
      "                    submitted_at                     created_at  \\\n",
      "0  2025-01-17T15:51:29.859+05:30  2025-01-17T15:51:29.871+05:30   \n",
      "\n",
      "                      updated_at  score  trophy_level accuracy speed  ...  \\\n",
      "0  2025-01-17T15:51:29.871+05:30     32             2     80 %   100  ...   \n",
      "\n",
      "  quiz.exam_id quiz.show_unanswered  quiz.ends_at  quiz.lives quiz.live_count  \\\n",
      "0         None                False    2025-01-18        None       Free Test   \n",
      "\n",
      "  quiz.coin_count quiz.questions_count   quiz.daily_date  \\\n",
      "0              -1                  128  January 17, 2025   \n",
      "\n",
      "  quiz.max_mistake_count  quiz.reading_materials  \n",
      "0                     15                      []  \n",
      "\n",
      "[1 rows x 68 columns]\n"
     ]
    }
   ],
   "source": [
    "# Function to load current quiz data using requests\n",
    "def load_current_quiz_data(url):\n",
    "    try:\n",
    "        response = requests.get(url, verify=False)  # Disable SSL verification\n",
    "        response.raise_for_status()  # Raise an exception for HTTP errors\n",
    "        data = response.json()  # Get the JSON data\n",
    "        return data\n",
    "    except requests.exceptions.RequestException as e:\n",
    "        print(f\"Error loading current quiz data: {e}\")\n",
    "        return None\n",
    "\n",
    "# Function to load historical quiz data using requests\n",
    "def load_historical_quiz_data(url):\n",
    "    try:\n",
    "        response = requests.get(url, verify=False)  # Disable SSL verification\n",
    "        response.raise_for_status()  # Raise an exception for HTTP errors\n",
    "        data = response.json()  # Get the JSON data\n",
    "        return data\n",
    "    except requests.exceptions.RequestException as e:\n",
    "        print(f\"Error loading historical quiz data: {e}\")\n",
    "        return None\n",
    "\n",
    "# Function to flatten the nested JSON (if any)\n",
    "def flatten_json(data):\n",
    "    \"\"\"Flatten a nested JSON object into a flat dictionary.\"\"\"\n",
    "    flattened = pd.json_normalize(data)\n",
    "    return flattened\n",
    "\n",
    "# Preprocess data (example, you can adjust based on your dataset)\n",
    "def preprocess_data(data):\n",
    "    # Handle missing values (drop rows with missing 'score' or 'quiz_topic' columns)\n",
    "    if 'score' in data.columns and 'quiz_topic' in data.columns:\n",
    "        data_cleaned = data.dropna(subset=[\"score\", \"quiz_topic\"])  # Drop rows with missing values for score or topic\n",
    "    else:\n",
    "        print(\"\\n'quiz_topic' or 'score' columns are missing. Please check the dataset.\")\n",
    "        data_cleaned = data  # If these columns are missing, proceed with all data\n",
    "    return data_cleaned\n",
    "\n",
    "# Function to generate a simple report on the cleaned data\n",
    "def generate_report(data):\n",
    "    # Print a simple summary of the cleaned data\n",
    "    print(\"\\nSummary Report:\")\n",
    "    print(f\"Total records after cleaning: {len(data)}\")\n",
    "    print(f\"Columns in cleaned data: {list(data.columns)}\")\n",
    "    print(\"\\nFirst 5 rows of the cleaned data:\\n\", data.head())\n",
    "\n",
    "# Main function\n",
    "def main():\n",
    "    # Data URLs\n",
    "    current_quiz_url = \"https://jsonkeeper.com/b/LLQT\"\n",
    "    historical_quiz_url = \"https://api.jsonserve.com/rJvd7g\"\n",
    "    \n",
    "    # Load and preprocess current quiz data\n",
    "    current_quiz = load_current_quiz_data(current_quiz_url)\n",
    "    if current_quiz is not None:\n",
    "        current_quiz_cleaned = flatten_json(current_quiz)  # Flatten if necessary\n",
    "        current_quiz_cleaned = preprocess_data(current_quiz_cleaned)\n",
    "        print(\"\\nCleaned Current Quiz Data:\")\n",
    "        generate_report(current_quiz_cleaned)  # Simple report for current quiz data\n",
    "    \n",
    "    # Load and preprocess historical quiz data\n",
    "    historical_quiz = load_historical_quiz_data(historical_quiz_url)\n",
    "    if historical_quiz is not None:\n",
    "        historical_quiz_cleaned = flatten_json(historical_quiz)  # Flatten if necessary\n",
    "        historical_quiz_cleaned = preprocess_data(historical_quiz_cleaned)\n",
    "        print(\"\\nCleaned Historical Quiz Data:\")\n",
    "        generate_report(historical_quiz_cleaned)  # Simple report for historical quiz data\n",
    "    else:\n",
    "        print(\"Historical quiz data could not be loaded.\")\n",
    "\n",
    "if __name__ == \"__main__\":\n",
    "    main()\n"
   ]
  },
  {
   "cell_type": "code",
   "execution_count": null,
   "id": "1bb2d677-701a-4606-a297-7570c61ea179",
   "metadata": {},
   "outputs": [],
   "source": []
  }
 ],
 "metadata": {
  "kernelspec": {
   "display_name": "Python 3 (ipykernel)",
   "language": "python",
   "name": "python3"
  },
  "language_info": {
   "codemirror_mode": {
    "name": "ipython",
    "version": 3
   },
   "file_extension": ".py",
   "mimetype": "text/x-python",
   "name": "python",
   "nbconvert_exporter": "python",
   "pygments_lexer": "ipython3",
   "version": "3.11.5"
  }
 },
 "nbformat": 4,
 "nbformat_minor": 5
}
